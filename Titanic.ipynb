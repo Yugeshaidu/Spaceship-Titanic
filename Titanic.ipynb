{
 "cells": [
  {
   "cell_type": "code",
   "execution_count": null,
   "id": "c4166b02",
   "metadata": {},
   "outputs": [],
   "source": [
    "import pandas as pd\n",
    "import matplotlib.pyplot as plt\n",
    "%matplotlib inline\n",
    "import seaborn as sns\n",
    "import numpy as np\n",
    "from sklearn import preprocessing\n",
    "from sklearn.linear_model import LogisticRegression\n",
    "from sklearn.model_selection import train_test_split\n",
    "from sklearn import metrics"
   ]
  },
  {
   "cell_type": "code",
   "execution_count": null,
   "id": "abe7da13",
   "metadata": {},
   "outputs": [],
   "source": [
    "#Loading Training Data\n",
    "data=pd.read_csv('train.csv')\n",
    "data.head()"
   ]
  },
  {
   "cell_type": "code",
   "execution_count": null,
   "id": "d1a7c56b",
   "metadata": {},
   "outputs": [],
   "source": [
    "#Loading Test CSV\n",
    "Test_data=pd.read_csv('test.csv')\n",
    "Test_data.head()"
   ]
  },
  {
   "cell_type": "code",
   "execution_count": null,
   "id": "c8b3b06d",
   "metadata": {},
   "outputs": [],
   "source": [
    "#Number of unique values in each column\n",
    "data.nunique()"
   ]
  },
  {
   "cell_type": "code",
   "execution_count": null,
   "id": "796e6779",
   "metadata": {},
   "outputs": [],
   "source": [
    "Test_data.nunique()"
   ]
  },
  {
   "cell_type": "code",
   "execution_count": null,
   "id": "e5cc9418",
   "metadata": {},
   "outputs": [],
   "source": [
    "data.describe()"
   ]
  },
  {
   "cell_type": "code",
   "execution_count": null,
   "id": "940e65e5",
   "metadata": {},
   "outputs": [],
   "source": [
    "data.info()"
   ]
  },
  {
   "cell_type": "code",
   "execution_count": null,
   "id": "41820afb",
   "metadata": {},
   "outputs": [],
   "source": [
    "Test_data.info()"
   ]
  },
  {
   "cell_type": "code",
   "execution_count": null,
   "id": "d7230cd7",
   "metadata": {},
   "outputs": [],
   "source": [
    "#find missing values\n",
    "print('data:',data.isnull().sum(),'\\n')\n",
    "print('Test_data:',Test_data.isnull().sum())"
   ]
  },
  {
   "cell_type": "code",
   "execution_count": null,
   "id": "ef3b9d26",
   "metadata": {},
   "outputs": [],
   "source": [
    "data.dtypes"
   ]
  },
  {
   "cell_type": "code",
   "execution_count": null,
   "id": "94f8da37",
   "metadata": {},
   "outputs": [],
   "source": [
    "Test_data.dtypes"
   ]
  },
  {
   "cell_type": "code",
   "execution_count": null,
   "id": "ba7c9b49",
   "metadata": {},
   "outputs": [],
   "source": [
    "#converting CryoSleep and VIP columns to boolean dtype on Train data\n",
    "data['CryoSleep']=data['CryoSleep'].astype(bool)\n",
    "data['VIP']=data['VIP'].astype(bool)\n",
    "data.dtypes"
   ]
  },
  {
   "cell_type": "code",
   "execution_count": null,
   "id": "2551f37b",
   "metadata": {},
   "outputs": [],
   "source": [
    "#converting CryoSleep and VIP columns to boolean dtype on Test data\n",
    "Test_data['CryoSleep']=Test_data['CryoSleep'].astype(bool)\n",
    "Test_data['VIP']=Test_data['VIP'].astype(bool)\n",
    "Test_data.dtypes"
   ]
  },
  {
   "cell_type": "code",
   "execution_count": null,
   "id": "83e0244c",
   "metadata": {},
   "outputs": [],
   "source": [
    "#selecting only categorical and binary columns\n",
    "cat_cols=data.drop(['PassengerId','Cabin','Age','RoomService','FoodCourt','ShoppingMall','Spa','VRDeck','Name'],axis=1)\n",
    "cat_cols"
   ]
  },
  {
   "cell_type": "code",
   "execution_count": null,
   "id": "510d56f2",
   "metadata": {},
   "outputs": [],
   "source": [
    "#categorical columns Unique values\n",
    "for i in cat_cols:\n",
    "    print('{}'.format(i), ': ',cat_cols['{}'.format(i)].unique())"
   ]
  },
  {
   "cell_type": "code",
   "execution_count": null,
   "id": "010eccf2",
   "metadata": {},
   "outputs": [],
   "source": [
    "#categorical columns Value counts of each unique values\n",
    "for i in cat_cols:\n",
    "    print('')\n",
    "    print('{}:'.format(i))\n",
    "    print(cat_cols['{}'.format(i)].value_counts())"
   ]
  },
  {
   "cell_type": "code",
   "execution_count": null,
   "id": "9ab2008e",
   "metadata": {},
   "outputs": [],
   "source": [
    "#Selecting only numerical/continuous columns\n",
    "num_cols=cat_cols=data.select_dtypes(include=['float64','int64'])\n",
    "num_cols"
   ]
  },
  {
   "cell_type": "code",
   "execution_count": null,
   "id": "c07c10ed",
   "metadata": {},
   "outputs": [],
   "source": [
    "#Statistics of num_cols\n",
    "for i in num_cols:\n",
    "    print('')\n",
    "    print('{}'.format(i))\n",
    "    print(num_cols['{}'.format(i)].describe())"
   ]
  },
  {
   "cell_type": "code",
   "execution_count": null,
   "id": "c0ec32cb",
   "metadata": {},
   "outputs": [],
   "source": [
    "#data correlation\n",
    "corr=data.corr()\n",
    "sns.heatmap(corr,cmap='hot')"
   ]
  },
  {
   "cell_type": "code",
   "execution_count": null,
   "id": "89dfab1d",
   "metadata": {},
   "outputs": [],
   "source": [
    "data.columns"
   ]
  },
  {
   "cell_type": "code",
   "execution_count": null,
   "id": "ac090a0c",
   "metadata": {},
   "outputs": [],
   "source": [
    "data.isnull().sum()"
   ]
  },
  {
   "cell_type": "markdown",
   "id": "364f20e8",
   "metadata": {},
   "source": [
    "# Filling Missing Data "
   ]
  },
  {
   "cell_type": "code",
   "execution_count": null,
   "id": "4847bcab",
   "metadata": {},
   "outputs": [],
   "source": [
    "data['HomePlanet']=data['HomePlanet'].fillna(data['HomePlanet'].mode().iloc[0])\n",
    "data['Destination']=data['Destination'].fillna(data['Destination'].mode().iloc[0])"
   ]
  },
  {
   "cell_type": "code",
   "execution_count": null,
   "id": "56cce0a1",
   "metadata": {},
   "outputs": [],
   "source": [
    "data.isnull().sum()"
   ]
  },
  {
   "cell_type": "code",
   "execution_count": null,
   "id": "348f2af4",
   "metadata": {},
   "outputs": [],
   "source": [
    "data.info()"
   ]
  },
  {
   "cell_type": "code",
   "execution_count": null,
   "id": "334cd047",
   "metadata": {},
   "outputs": [],
   "source": [
    "#Removing Passengerid and Name columns for Train data\n",
    "data=data.drop(['PassengerId', 'Name'],axis=1)"
   ]
  },
  {
   "cell_type": "code",
   "execution_count": null,
   "id": "cf69453b",
   "metadata": {},
   "outputs": [],
   "source": [
    "#Removing Passengerid and Name columns for Test data\n",
    "Test_data=Test_data.drop(['PassengerId', 'Name'],axis=1)"
   ]
  },
  {
   "cell_type": "markdown",
   "id": "da898985",
   "metadata": {},
   "source": [
    "# Experimenting"
   ]
  },
  {
   "cell_type": "code",
   "execution_count": null,
   "id": "807279d9",
   "metadata": {},
   "outputs": [],
   "source": [
    "#***Logistic Regression***"
   ]
  },
  {
   "cell_type": "code",
   "execution_count": null,
   "id": "dbf52275",
   "metadata": {},
   "outputs": [],
   "source": [
    "#try label encoding for Train Data\n",
    "label_encoder = preprocessing.LabelEncoder()\n",
    "data['HomePlanet']= label_encoder.fit_transform(data['HomePlanet']) \n",
    "print(data['HomePlanet'].value_counts(),'\\n')\n",
    "data['Destination']= label_encoder.fit_transform(data['Destination']) \n",
    "print(data['Destination'].value_counts())"
   ]
  },
  {
   "cell_type": "code",
   "execution_count": null,
   "id": "d5e45d86",
   "metadata": {},
   "outputs": [],
   "source": [
    "#try label encoding for Test Data\n",
    "Test_data['HomePlanet']= label_encoder.fit_transform(Test_data['HomePlanet']) \n",
    "print(Test_data['HomePlanet'].value_counts(),'\\n')\n",
    "Test_data['Destination']= label_encoder.fit_transform(Test_data['Destination']) \n",
    "print(Test_data['Destination'].value_counts())"
   ]
  },
  {
   "cell_type": "code",
   "execution_count": null,
   "id": "c76e7cb7",
   "metadata": {},
   "outputs": [],
   "source": [
    "data=data.drop(['Cabin'],axis=1) #Remove Cabin column for Train Data\n",
    "rem_mv=data.dropna() #Removed any row with missing values for Train Data\n",
    "print('Train Data')\n",
    "print('data:',len(data),'rem_mv:',len(rem_mv))"
   ]
  },
  {
   "cell_type": "code",
   "execution_count": null,
   "id": "442a9376",
   "metadata": {},
   "outputs": [],
   "source": [
    "Test_data=Test_data.drop(['Cabin'],axis=1) #Remove Cabin column for Test Data\n",
    "Fin_Test_data=Test_data.dropna() #Removed any row with missing values for Test Data\n",
    "print('Test Data')\n",
    "print('Test_data:',len(Test_data),'Fin_Test_data:',len(Fin_Test_data))"
   ]
  },
  {
   "cell_type": "code",
   "execution_count": null,
   "id": "e36489cb",
   "metadata": {},
   "outputs": [],
   "source": [
    "#X=rem_mv.select_dtypes(include=['number','bool']).iloc[0:,0:8]\n",
    "X=rem_mv.iloc[0:,0:10]\n",
    "X"
   ]
  },
  {
   "cell_type": "code",
   "execution_count": null,
   "id": "7efb4082",
   "metadata": {},
   "outputs": [],
   "source": [
    "y=rem_mv.iloc[0:,-1]\n",
    "y"
   ]
  },
  {
   "cell_type": "code",
   "execution_count": null,
   "id": "4c610852",
   "metadata": {},
   "outputs": [],
   "source": [
    "X_train, X_test, y_train, y_test = train_test_split(X, y, test_size=0.33, random_state=0)\n",
    "print(X_train.shape, X_test.shape, y_train.shape, y_test.shape)"
   ]
  },
  {
   "cell_type": "code",
   "execution_count": null,
   "id": "22f30404",
   "metadata": {},
   "outputs": [],
   "source": [
    "logreg = LogisticRegression()\n",
    "logreg.fit(X_train,y_train)"
   ]
  },
  {
   "cell_type": "code",
   "execution_count": null,
   "id": "0beacad1",
   "metadata": {},
   "outputs": [],
   "source": [
    "y_pred=logreg.predict(X_test)"
   ]
  },
  {
   "cell_type": "code",
   "execution_count": null,
   "id": "25134d75",
   "metadata": {},
   "outputs": [],
   "source": [
    "y_pred"
   ]
  },
  {
   "cell_type": "code",
   "execution_count": null,
   "id": "2bbbf9f9",
   "metadata": {},
   "outputs": [],
   "source": [
    "cnf_matrix = metrics.confusion_matrix(y_test, y_pred)\n",
    "cnf_matrix"
   ]
  },
  {
   "cell_type": "code",
   "execution_count": null,
   "id": "2a4013f3",
   "metadata": {},
   "outputs": [],
   "source": [
    "class_names=[0,1] # name  of classes\n",
    "fig, ax = plt.subplots()\n",
    "tick_marks = np.arange(len(class_names))\n",
    "plt.xticks(tick_marks, class_names)\n",
    "plt.yticks(tick_marks, class_names)\n",
    "# create heatmap\n",
    "sns.heatmap(pd.DataFrame(cnf_matrix), annot=True, cmap=\"YlGnBu\" ,fmt='g')\n",
    "ax.xaxis.set_label_position(\"top\")\n",
    "plt.tight_layout()\n",
    "plt.title('Confusion matrix', y=1.1)\n",
    "plt.ylabel('Actual label')\n",
    "plt.xlabel('Predicted label')"
   ]
  },
  {
   "cell_type": "code",
   "execution_count": null,
   "id": "a71cf281",
   "metadata": {},
   "outputs": [],
   "source": [
    "print(\"Accuracy:\",metrics.accuracy_score(y_test, y_pred))\n",
    "print(\"Precision:\",metrics.precision_score(y_test, y_pred))\n",
    "print(\"Recall:\",metrics.recall_score(y_test, y_pred))\n",
    "print(\"F1\",metrics.f1_score(y_test,y_pred))"
   ]
  },
  {
   "cell_type": "code",
   "execution_count": null,
   "id": "a0ea784c",
   "metadata": {},
   "outputs": [],
   "source": [
    "y_pred_proba = logreg.predict_proba(X_test)[::,1]\n",
    "fpr, tpr, _ = metrics.roc_curve(y_test,  y_pred_proba)\n",
    "auc = metrics.roc_auc_score(y_test, y_pred_proba)\n",
    "plt.plot(fpr,tpr,label=\"data 1, auc=\"+str(auc))\n",
    "plt.legend(loc=4)\n",
    "plt.show()"
   ]
  },
  {
   "cell_type": "code",
   "execution_count": null,
   "id": "e22aa64e",
   "metadata": {},
   "outputs": [],
   "source": [
    "#ypred try on test.csv Data\n",
    "y_pred_Test=logreg.predict(Fin_Test_data)"
   ]
  },
  {
   "cell_type": "code",
   "execution_count": null,
   "id": "70236f23",
   "metadata": {},
   "outputs": [],
   "source": [
    "y_pred_Test"
   ]
  },
  {
   "cell_type": "code",
   "execution_count": null,
   "id": "90942fe8",
   "metadata": {},
   "outputs": [],
   "source": [
    "len(y_pred)"
   ]
  },
  {
   "cell_type": "code",
   "execution_count": null,
   "id": "62dd0f3a",
   "metadata": {},
   "outputs": [],
   "source": []
  }
 ],
 "metadata": {
  "kernelspec": {
   "display_name": "Python 3 (ipykernel)",
   "language": "python",
   "name": "python3"
  },
  "language_info": {
   "codemirror_mode": {
    "name": "ipython",
    "version": 3
   },
   "file_extension": ".py",
   "mimetype": "text/x-python",
   "name": "python",
   "nbconvert_exporter": "python",
   "pygments_lexer": "ipython3",
   "version": "3.9.7"
  }
 },
 "nbformat": 4,
 "nbformat_minor": 5
}
